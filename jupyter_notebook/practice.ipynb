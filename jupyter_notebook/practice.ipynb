{
 "cells": [
  {
   "cell_type": "code",
   "execution_count": 1,
   "metadata": {},
   "outputs": [
    {
     "name": "stdout",
     "output_type": "stream",
     "text": [
      "you are wrong,he is a man!\n",
      "I am baby\n"
     ]
    }
   ],
   "source": [
    "#inheritancd and \n",
    "\n",
    "class parent(object):\n",
    "    def __init__(self,name,gender):\n",
    "        self.name = name\n",
    "        self.sex = gender\n",
    "    \n",
    "    def print_info(self):\n",
    "        if self.sex == \"girl\":\n",
    "            return \"woman\"\n",
    "        else:\n",
    "            print(\"I don't kown\")\n",
    "\n",
    "class baby(parent):\n",
    "    def print_info(self):\n",
    "        if self.sex == \"man\":\n",
    "            return \"man\"\n",
    "\n",
    "ye = parent(\"yexuehua\",\"girl\")\n",
    "yu = baby(\"yusheng\",\"man\")\n",
    "yue = yu.print_info()\n",
    "ui = ye.print_info()\n",
    "if ui == \"woman\":\n",
    "    print(\"you are wrong,he is a man!\")\n",
    "if yue == \"man\":\n",
    "    print(\"I am baby\")"
   ]
  },
  {
   "cell_type": "code",
   "execution_count": 3,
   "metadata": {},
   "outputs": [
    {
     "name": "stdout",
     "output_type": "stream",
     "text": [
      "0123456789abcdefghijklmnopqrstuvwxyzABCDEFGHIJKLMNOPQRSTUVWXYZ\n"
     ]
    }
   ],
   "source": [
    "from string import digits,ascii_uppercase,ascii_lowercase\n",
    "\n",
    "Alphabet = digits + ascii_lowercase + ascii_uppercase\n",
    "\n",
    "def ten2any(n,b=62):\n",
    "    assert b<= 62\n",
    "    \n",
    "    n,index = divmod(n,b)"
   ]
  },
  {
   "cell_type": "code",
   "execution_count": 5,
   "metadata": {},
   "outputs": [
    {
     "name": "stdout",
     "output_type": "stream",
     "text": [
      "Stevenis sitting now\n",
      "Yu\n"
     ]
    }
   ],
   "source": [
    "class Dog():\n",
    "    def __init__(self,name,age):\n",
    "        self.name = name\n",
    "        self.age = age\n",
    "        \n",
    "    def sit(self):\n",
    "        print(self.name.title()+\"is sitting now\")\n",
    "    \n",
    "    def roll_over(self):\n",
    "        print(self.name.title()+\"rolled over!\")\n",
    "        \n",
    "cmd = Dog(\"steven\",\"2\")\n",
    "cmd.sit()\n",
    "a = \"yu\"\n",
    "print(a.title())"
   ]
  },
  {
   "cell_type": "code",
   "execution_count": null,
   "metadata": {},
   "outputs": [],
   "source": []
  }
 ],
 "metadata": {
  "kernelspec": {
   "display_name": "Python 3",
   "language": "python",
   "name": "python3"
  },
  "language_info": {
   "codemirror_mode": {
    "name": "ipython",
    "version": 3
   },
   "file_extension": ".py",
   "mimetype": "text/x-python",
   "name": "python",
   "nbconvert_exporter": "python",
   "pygments_lexer": "ipython3",
   "version": "3.7.3"
  }
 },
 "nbformat": 4,
 "nbformat_minor": 2
}
