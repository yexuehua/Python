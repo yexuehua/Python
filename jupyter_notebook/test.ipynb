{
 "cells": [
  {
   "cell_type": "code",
   "execution_count": 1,
   "metadata": {},
   "outputs": [
    {
     "name": "stdout",
     "output_type": "stream",
     "text": [
      "1\n",
      "2\n",
      "3\n"
     ]
    }
   ],
   "source": [
    "a = {\"yu\":1,'ye':2,'yue':3}\n",
    "for i in a:\n",
    "    print(a[i])\n",
    "    "
   ]
  },
  {
   "cell_type": "code",
   "execution_count": 2,
   "metadata": {},
   "outputs": [
    {
     "name": "stdout",
     "output_type": "stream",
     "text": [
      "[1, 2, 3]\n",
      "[4, 5, 6]\n"
     ]
    }
   ],
   "source": [
    "a = [[1,2,3],[4,5,6]]\n",
    "for i in a:\n",
    "    print(i)"
   ]
  },
  {
   "cell_type": "code",
   "execution_count": 11,
   "metadata": {},
   "outputs": [
    {
     "name": "stdout",
     "output_type": "stream",
     "text": [
      "<class 'float'>\n"
     ]
    }
   ],
   "source": [
    "e = 10\n",
    "f = 5\n",
    "c = e/f\n",
    "print(type(c))\n"
   ]
  },
  {
   "cell_type": "code",
   "execution_count": 15,
   "metadata": {},
   "outputs": [
    {
     "name": "stdout",
     "output_type": "stream",
     "text": [
      "[[1, 3], [4, 6]]\n"
     ]
    }
   ],
   "source": [
    "a = [[1,2,3],[4,5,6]]\n",
    "b = [[c[0],c[2]] for c in a]\n",
    "print(b)"
   ]
  },
  {
   "cell_type": "code",
   "execution_count": 21,
   "metadata": {},
   "outputs": [
    {
     "name": "stdout",
     "output_type": "stream",
     "text": [
      "3\n",
      "[[2, 3], [2, 6]]\n"
     ]
    }
   ],
   "source": [
    "def split_dataset(dataset,i,subfeat):\n",
    "        column_i_l = [[data[i],data[-1]] for data in dataset]\n",
    "        subdata = [data for data in column_i_l if data[0] == subfeat]\n",
    "        return subdata\n",
    "a = [[1,2,3],[4,5,6],[3,2,6]]\n",
    "print(len(a))\n",
    "b = split_dataset(a,1,2)\n",
    "print(b)"
   ]
  },
  {
   "cell_type": "code",
   "execution_count": 25,
   "metadata": {},
   "outputs": [
    {
     "name": "stdout",
     "output_type": "stream",
     "text": [
      "[b'0\\t0\\t0', b'0']\n"
     ]
    }
   ],
   "source": [
    "a = b'0\\t0\\t0\\r\\n0'\n",
    "b = a.splitlines()\n",
    "print(b)"
   ]
  },
  {
   "cell_type": "code",
   "execution_count": 29,
   "metadata": {},
   "outputs": [
    {
     "name": "stdout",
     "output_type": "stream",
     "text": [
      "{'b': {2.0: 4}}\n"
     ]
    }
   ],
   "source": [
    "a = {\"b\":{}}\n",
    "a[\"b\"][] = 4\n",
    "print(a)"
   ]
  },
  {
   "cell_type": "code",
   "execution_count": 37,
   "metadata": {},
   "outputs": [
    {
     "name": "stdout",
     "output_type": "stream",
     "text": [
      "{'b': {'s': {'c': {'apple': 6}}}}\n"
     ]
    }
   ],
   "source": [
    "c = {\"c\":{}}\n",
    "c[\"c\"][\"apple\"] = 6\n",
    "a = {\"b\":{}}\n",
    "a[\"b\"][\"s\"] =c\n",
    "print(a)"
   ]
  },
  {
   "cell_type": "code",
   "execution_count": 39,
   "metadata": {},
   "outputs": [
    {
     "data": {
      "text/plain": [
       "'c'"
      ]
     },
     "execution_count": 39,
     "metadata": {},
     "output_type": "execute_result"
    }
   ],
   "source": [
    "item = {\"a\":2,\"b\":5,\"c\":9}\n",
    "max(item.keys())"
   ]
  },
  {
   "cell_type": "code",
   "execution_count": 40,
   "metadata": {},
   "outputs": [
    {
     "data": {
      "text/plain": [
       "9"
      ]
     },
     "execution_count": 40,
     "metadata": {},
     "output_type": "execute_result"
    }
   ],
   "source": [
    "item = {2:\"a\",5:\"b\",9:\"c\"}\n",
    "max(item.keys())"
   ]
  },
  {
   "cell_type": "code",
   "execution_count": 43,
   "metadata": {},
   "outputs": [
    {
     "data": {
      "text/plain": [
       "{2: 'a', 5: 'b', 9: 'c'}"
      ]
     },
     "execution_count": 43,
     "metadata": {},
     "output_type": "execute_result"
    }
   ],
   "source": [
    "dict([(2,\"a\"),(5,\"b\"),(9,\"c\")])"
   ]
  },
  {
   "cell_type": "code",
   "execution_count": 44,
   "metadata": {},
   "outputs": [
    {
     "name": "stdout",
     "output_type": "stream",
     "text": [
      "{'b': 2}\n"
     ]
    }
   ],
   "source": [
    "a = {}\n",
    "a[\"b\"]=2\n",
    "print(a)"
   ]
  },
  {
   "cell_type": "code",
   "execution_count": 46,
   "metadata": {},
   "outputs": [
    {
     "name": "stdout",
     "output_type": "stream",
     "text": [
      "{'b': {'c': 2, 'd': 3}}\n"
     ]
    }
   ],
   "source": [
    "a = {\"b\":{}}\n",
    "a[\"b\"][\"c\"] = 2\n",
    "a[\"b\"][\"d\"] = 3\n",
    "print(a)"
   ]
  },
  {
   "cell_type": "code",
   "execution_count": 48,
   "metadata": {},
   "outputs": [
    {
     "name": "stdout",
     "output_type": "stream",
     "text": [
      "[6 2 5 3 1 4 0]\n"
     ]
    }
   ],
   "source": [
    "import numpy as np\n",
    "\n",
    "a = np.arange(7)\n",
    "np.random.shuffle(a)\n",
    "print(a)"
   ]
  },
  {
   "cell_type": "code",
   "execution_count": 8,
   "metadata": {},
   "outputs": [
    {
     "name": "stdout",
     "output_type": "stream",
     "text": [
      "you\n"
     ]
    }
   ],
   "source": [
    "a = 'you,,me'\n",
    "b = a.split(',')\n",
    "print(b[0])"
   ]
  },
  {
   "cell_type": "code",
   "execution_count": 7,
   "metadata": {},
   "outputs": [
    {
     "name": "stdout",
     "output_type": "stream",
     "text": [
      "[2 3 1]\n"
     ]
    }
   ],
   "source": [
    "#tf.argmax()\n",
    "import tensorflow as tf\n",
    "a = tf.constant([[1,2,3],\n",
    "                 [3,5,8],\n",
    "                 [9,5,3],\n",
    "                 [7,6,3]],tf.float32)\n",
    "b = tf.argmax(a,0)\n",
    "sess = tf.Session()\n",
    "c = sess.run(b)\n",
    "print(c)"
   ]
  },
  {
   "cell_type": "code",
   "execution_count": 10,
   "metadata": {},
   "outputs": [
    {
     "name": "stdout",
     "output_type": "stream",
     "text": [
      "10\n"
     ]
    }
   ],
   "source": [
    "a = [1,3,5]\n",
    "b = min(20,10)\n",
    "print(b)"
   ]
  },
  {
   "cell_type": "code",
   "execution_count": 20,
   "metadata": {},
   "outputs": [
    {
     "name": "stdout",
     "output_type": "stream",
     "text": [
      "I:\\ye\\Postgraduate\\Ebooks \n",
      " ['C++', 'computer_vision', 'deep_leaning', 'github', 'history', 'li_honyi_ML', 'machine_learning', 'math', 'python'] \n",
      " []\n",
      "I:\\ye\\Postgraduate\\Ebooks\\C++ \n",
      " [] \n",
      " [\"Adrian Kaehler - Learning OpenCV Computer Vision in C++ with the OpenCV Library Early 2016 Release-O'Reilly (2016).pdf\", 'C++ Primer Plus-Addison-Wesley Professional (2011).pdf']\n",
      "I:\\ye\\Postgraduate\\Ebooks\\computer_vision \n",
      " ['python2', 'python3'] \n",
      " ['Computer-Vision-Resources.pdf', 'Gabriel Garrido, Prateek Joshi - Code for OpenCV 3.x with Python By Example - Second Edition_ Make the most of OpenCV and Python to build applications for object recognition and augmented reality-Pack.zip']\n",
      "I:\\ye\\Postgraduate\\Ebooks\\computer_vision\\python2 \n",
      " [] \n",
      " ['Joshi P. - OpenCV with Python By Example_ Build real-world computer vision applications and develop cool demos using OpenCV for Python.pdf', 'Learning OpenCV 3 Computer Visi - Minichino, Joe.pdf', 'Michael Beyeler - OpenCV with Python Blueprints-Packt Publishing (2015).pdf', 'Prateek Joshi, David Millan Escriva, Vinicius Godoy - OpenCV By Example_ Enhance your understanding of Computer Vision and image processing by developing real-world projects in OpenCV 3-Packt Publishi.pdf', 'ProgrammingComputerVision_CCdraft.pdf', '学习OpenCV(中文版).pdf']\n",
      "I:\\ye\\Postgraduate\\Ebooks\\computer_vision\\python3 \n",
      " ['OpenCV3xwithPythonByExample_Code'] \n",
      " ['Gabriel Garrido, Prateek Joshi - OpenCV 3.x with Python By Example-Packt Publishing (2018).pdf', 'OpenCV-Python-Tutorial-中文版.pdf', 'OpenCV算法精解：基于Python与C++ (2).pdf', 'python3_OpenCV_3_Computer_Vision_with_P(b-ok.cc).pdf', 'python3_Practical_Computer_Vision__Extra(b-ok.cc).pdf', '[Michael_Beyeler]_Machine_Learning_for_OpenCV__Int(b-ok.cc).pdf']\n",
      "I:\\ye\\Postgraduate\\Ebooks\\computer_vision\\python3\\OpenCV3xwithPythonByExample_Code \n",
      " ['Chapter01', 'Chapter02', 'Chapter03', 'Chapter04', 'Chapter05', 'Chapter06', 'Chapter07', 'Chapter08', 'Chapter09', 'Chapter10', 'Chapter11'] \n",
      " ['README.txt', 'Software and hardware list.pdf']\n",
      "I:\\ye\\Postgraduate\\Ebooks\\computer_vision\\python3\\OpenCV3xwithPythonByExample_Code\\Chapter01 \n",
      " ['images'] \n",
      " ['01_reading_image.py', '02_saving_image.py', '03_convert_image_format.py', '04_image_color_split.py', '05_image_color_merge.py', '06_image_translation.py', '07_image_rotation.py', '08_image_scaling.py', '09_affine_transformation.py', '10_projective_transformation.py', '11_image_warping.py']\n",
      "I:\\ye\\Postgraduate\\Ebooks\\computer_vision\\python3\\OpenCV3xwithPythonByExample_Code\\Chapter01\\images \n",
      " [] \n",
      " ['input.jpg']\n",
      "I:\\ye\\Postgraduate\\Ebooks\\computer_vision\\python3\\OpenCV3xwithPythonByExample_Code\\Chapter02 \n",
      " ['images'] \n",
      " ['01_2d_convolution.py', '02_blurring.py', '03_sharpening.py', '04_embossing.py', '05_embossing_advance.py', '06_erosion_dilation.py', '07_vignette_filter.py', '08_vignette_gaussian.py', '09_enhacing_contrast.py', '09_enhacing_contrast_2.py']\n",
      "I:\\ye\\Postgraduate\\Ebooks\\computer_vision\\python3\\OpenCV3xwithPythonByExample_Code\\Chapter02\\images \n",
      " [] \n",
      " ['geometrics_input.png', 'house_input.png', 'image_02_008.png', 'sign_input.png', 'text_input.png', 'train_input.png', 'tree_input.png']\n",
      "I:\\ye\\Postgraduate\\Ebooks\\computer_vision\\python3\\OpenCV3xwithPythonByExample_Code\\Chapter03 \n",
      " ['images'] \n",
      " ['01_accessing_webcam.py', '02_keyboard_inputs.py', '03_mouse_inputs.py', '04_interacting_video.py', '05_cartoonizing.py', '06_median_filter.py', '07_gaussian_bilateral_filter.py']\n",
      "I:\\ye\\Postgraduate\\Ebooks\\computer_vision\\python3\\OpenCV3xwithPythonByExample_Code\\Chapter03\\images \n",
      " [] \n",
      " ['blue_carpet.png', 'green_dots.png']\n",
      "I:\\ye\\Postgraduate\\Ebooks\\computer_vision\\python3\\OpenCV3xwithPythonByExample_Code\\Chapter04 \n",
      " ['cascade_files', 'images'] \n",
      " ['ear_detection.py', 'eye_detection.py', 'face_detection.py', 'fun_with_eye.py', 'fun_with_face.py', 'fun_with_mounth.py', 'mounth_detection.py', 'nose_detection.py', 'pupil_detection.py', 'remove_overlay_alpha.py']\n",
      "I:\\ye\\Postgraduate\\Ebooks\\computer_vision\\python3\\OpenCV3xwithPythonByExample_Code\\Chapter04\\cascade_files \n",
      " [] \n",
      " ['haarcascade_eye.xml', 'haarcascade_frontalface_alt.xml', 'haarcascade_mcs_leftear.xml', 'haarcascade_mcs_mouth.xml', 'haarcascade_mcs_nose.xml', 'haarcascade_mcs_rightear.xml']\n",
      "I:\\ye\\Postgraduate\\Ebooks\\computer_vision\\python3\\OpenCV3xwithPythonByExample_Code\\Chapter04\\images \n",
      " [] \n",
      " ['mask_hannibal.png', 'moustache.png', 'sunglasses.png']\n",
      "I:\\ye\\Postgraduate\\Ebooks\\computer_vision\\python3\\OpenCV3xwithPythonByExample_Code\\Chapter05 \n",
      " ['images'] \n",
      " ['fast_detector.py', 'fast_detector_with_brief_extractor.py', 'good_features.py', 'harris_corners.py', 'orb_detector.py', 'sift_detect.py', 'surf_detect.py']\n",
      "I:\\ye\\Postgraduate\\Ebooks\\computer_vision\\python3\\OpenCV3xwithPythonByExample_Code\\Chapter05\\images \n",
      " [] \n",
      " ['box.png', 'fishing_house.jpg', 'house.jpg', 'tool.png']\n",
      "I:\\ye\\Postgraduate\\Ebooks\\computer_vision\\python3\\OpenCV3xwithPythonByExample_Code\\Chapter06 \n",
      " ['images'] \n",
      " ['expand_image_by_seam_carving.py', 'reduce_image_by_seam_carving.py', 'remove_element_by_seam_carving.py']\n",
      "I:\\ye\\Postgraduate\\Ebooks\\computer_vision\\python3\\OpenCV3xwithPythonByExample_Code\\Chapter06\\images \n",
      " [] \n",
      " ['beach.jpg', 'ducks.jpg']\n",
      "I:\\ye\\Postgraduate\\Ebooks\\computer_vision\\python3\\OpenCV3xwithPythonByExample_Code\\Chapter07 \n",
      " ['images'] \n",
      " ['best_contour_matching.py', 'censor_shapes.py', 'convexity_defects.py', 'convexity_defects_smoothen.py', 'image_segmentation.py', 'smoothen contour_polygon.py', 'watershed.py']\n",
      "I:\\ye\\Postgraduate\\Ebooks\\computer_vision\\python3\\OpenCV3xwithPythonByExample_Code\\Chapter07\\images \n",
      " [] \n",
      " ['boomerang.png', 'convex_shapes.png', 'hand_pen.jpg', 'random_shapes.png', 'road.jpg', 'shapes.png']\n",
      "I:\\ye\\Postgraduate\\Ebooks\\computer_vision\\python3\\OpenCV3xwithPythonByExample_Code\\Chapter08 \n",
      " [] \n",
      " ['background_substraction_GMG.py', 'background_substraction_MOG.py', 'colorspace_tracking.py', 'detect_movement.py', 'feature_tracking.py', 'object_tracker.py']\n",
      "I:\\ye\\Postgraduate\\Ebooks\\computer_vision\\python3\\OpenCV3xwithPythonByExample_Code\\Chapter09 \n",
      " [] \n",
      " ['classify_data.py', 'create_features.py', 'feature_detector.py', 'training.py']\n",
      "I:\\ye\\Postgraduate\\Ebooks\\computer_vision\\python3\\OpenCV3xwithPythonByExample_Code\\Chapter10 \n",
      " [] \n",
      " ['augmented_reality_piramide.py', 'augmented_reality_piramide_v2.py', 'pose_estimation.py']\n",
      "I:\\ye\\Postgraduate\\Ebooks\\computer_vision\\python3\\OpenCV3xwithPythonByExample_Code\\Chapter11 \n",
      " ['images'] \n",
      " ['classify_data.py', 'create_features.py', 'feature_extractor.py', 'training.py']\n",
      "I:\\ye\\Postgraduate\\Ebooks\\computer_vision\\python3\\OpenCV3xwithPythonByExample_Code\\Chapter11\\images \n",
      " [] \n",
      " ['multiclass_image.png', 'multiclass_image_features.png', 'test.png']\n",
      "I:\\ye\\Postgraduate\\Ebooks\\deep_leaning \n",
      " [] \n",
      " ['deep learning.pdf', 'Deeplearning深度学习笔记v5.54.pdf', 'Inception architecture.pdf', 'TensorFlow 官方文档中文版 - v1.2.pdf', 'Tensorflow 实战Google深度学习框架.pdf', 'TensorFlow 实战教程：如何用卷积神经网络打造图片识别应用【95929】TensorFlow 实战教程：如何用卷积神经网络快速打造图片识别应用（上）.pdf', '深度学习Yoshua著中文版.pdf', '神经⽹络与深度学习.pdf', '神经网络与深度学习讲义.pdf']\n",
      "I:\\ye\\Postgraduate\\Ebooks\\github \n",
      " [] \n",
      " ['GitLearning.pdf', \"Peter Bell,\\xa0Brent Beer - Introducing GitHub-O'Reilly Media (2014).pdf\"]\n",
      "I:\\ye\\Postgraduate\\Ebooks\\history \n",
      " [] \n",
      " ['《心理学的故事》（美）墨顿·亨特.pdf', '历史-+你一定爱读的极简欧洲史.pdf']\n",
      "I:\\ye\\Postgraduate\\Ebooks\\li_honyi_ML \n",
      " ['2017spring'] \n",
      " []\n",
      "I:\\ye\\Postgraduate\\Ebooks\\li_honyi_ML\\2017spring \n",
      " [] \n",
      " ['auto.pptx', 'Bias and Variance.pptx', 'BP (v2).pptx', 'Classification (v2).pptx', 'CNN.pptx', 'DL.pptx', 'DNN tip.pptx', 'Ensemble.pptx', 'GAN (v3).pptx', 'Gradient Descent.pptx', 'introduction.pptx', 'Keras.pptx', 'Logistic Regression (v4).pptx', 'MF.pptx', 'PCA (v3).pptx', 'RL (v4).pptx', 'RNN.pptx', 'semi.pptx', 'Structured Introduction.pptx', 'transfer.pptx', 'TSNE.pptx', 'Why.pptx', 'word2vec (v2).pptx']\n",
      "I:\\ye\\Postgraduate\\Ebooks\\machine_learning \n",
      " [] \n",
      " ['9781782161400-BUILDING_MACHINE_LEARNING_SYSTEMS_WITH_PYTHON.pdf', 'Automate_the_Boring_Stuff_onlinematerials.zip', 'Neural Networks and Learning Machines (3rd Edition).pdf', 'Pattern Recognition And Machine Learning.pdf', 'Peter Harrington-Machine Learning in Action-Manning (2012).pdf', '人工智能教材.pdf', '人工智能系统培训大纲.pdf', '机器学习(清晰).pdf', '机器学习与优化.pdf', '机器学习个人笔记完整版v5.32-A4打印版.pdf', '机器学习实践指南：案例应用解析.pdf', '机器学习导论 原书 第2版.pdf']\n",
      "I:\\ye\\Postgraduate\\Ebooks\\math \n",
      " [] \n",
      " ['(Information science and statistics) Christopher M. Bishop-Pattern Recognition and Machine Learning-Springer (2006).pdf', 'Geoffrey R. Grimmett, David R. Stirzaker - Probability and random processes-Oxford University Press (2001).djvu', 'Mathematics_for_Machine_Learning.pdf', 'matrix_and_vector_derivatives.pdf', '[Feller_W]_An_Introduction_to_Probability_Theory_a(b-ok.cc).pdf', '[Gilbert_Strang]_Introduction_to_Linear_Algebra(b-ok.cc).pdf', '[Gilbert_Strang]_Linear_algebra_and_its_applicatio(b-ok.cc).pdf', '[Stephen_H.Friedberg,_Arnold_Insel,Lawrence_E]_Lin(b-ok.cc).pdf', '[William_R._Wade]_Introduction_to_Analysis,_Third_(b-ok.cc).pdf', '《数学的神韵》李尚志著.pdf', '概率论与数理统计.pdf', '线代.pdf', '线性代数学习指导（李尚志） .pdf']\n",
      "I:\\ye\\Postgraduate\\Ebooks\\python \n",
      " [] \n",
      " ['Learning robotics using python.pdf', 'makinggames.pdf', 'makinggames.zip', 'numpy-ref-1.15.4.pdf']\n"
     ]
    }
   ],
   "source": [
    "import os\n",
    "\n",
    "for path,dirpath,file in os.walk('I:\\ye\\Postgraduate\\Ebooks'):\n",
    "    print(path,'\\n',dirpath,'\\n',file)"
   ]
  },
  {
   "cell_type": "code",
   "execution_count": 25,
   "metadata": {},
   "outputs": [
    {
     "ename": "ValueError",
     "evalue": "Attr 'strides' of 'Conv3D' Op passed list of length 4 less than minimum 5.",
     "output_type": "error",
     "traceback": [
      "\u001b[1;31m---------------------------------------------------------------------------\u001b[0m",
      "\u001b[1;31mValueError\u001b[0m                                Traceback (most recent call last)",
      "\u001b[1;32m<ipython-input-25-2ee17d994bd7>\u001b[0m in \u001b[0;36m<module>\u001b[1;34m\u001b[0m\n\u001b[0;32m      8\u001b[0m                  [-1,4]],tf.float32)\n\u001b[0;32m      9\u001b[0m \u001b[1;33m\u001b[0m\u001b[0m\n\u001b[1;32m---> 10\u001b[1;33m \u001b[0mc\u001b[0m \u001b[1;33m=\u001b[0m \u001b[0mtf\u001b[0m\u001b[1;33m.\u001b[0m\u001b[0mnn\u001b[0m\u001b[1;33m.\u001b[0m\u001b[0mconv3d\u001b[0m\u001b[1;33m(\u001b[0m\u001b[0ma\u001b[0m\u001b[1;33m,\u001b[0m\u001b[0mb\u001b[0m\u001b[1;33m,\u001b[0m\u001b[1;33m[\u001b[0m\u001b[1;36m1\u001b[0m\u001b[1;33m,\u001b[0m\u001b[1;36m1\u001b[0m\u001b[1;33m,\u001b[0m\u001b[1;36m1\u001b[0m\u001b[1;33m,\u001b[0m\u001b[1;36m1\u001b[0m\u001b[1;33m]\u001b[0m\u001b[1;33m,\u001b[0m\u001b[1;34m'SAME'\u001b[0m\u001b[1;33m)\u001b[0m\u001b[1;33m\u001b[0m\u001b[1;33m\u001b[0m\u001b[0m\n\u001b[0m\u001b[0;32m     11\u001b[0m \u001b[0msess\u001b[0m \u001b[1;33m=\u001b[0m \u001b[0mtf\u001b[0m\u001b[1;33m.\u001b[0m\u001b[0mSession\u001b[0m\u001b[1;33m(\u001b[0m\u001b[1;33m)\u001b[0m\u001b[1;33m\u001b[0m\u001b[1;33m\u001b[0m\u001b[0m\n\u001b[0;32m     12\u001b[0m \u001b[0msess\u001b[0m\u001b[1;33m.\u001b[0m\u001b[0mrun\u001b[0m\u001b[1;33m(\u001b[0m\u001b[0mc\u001b[0m\u001b[1;33m)\u001b[0m\u001b[1;33m\u001b[0m\u001b[1;33m\u001b[0m\u001b[0m\n",
      "\u001b[1;32mE:\\ProgramData\\Anaconda3\\envs\\tensorflow\\lib\\site-packages\\tensorflow\\python\\ops\\gen_nn_ops.py\u001b[0m in \u001b[0;36mconv3d\u001b[1;34m(input, filter, strides, padding, data_format, dilations, name)\u001b[0m\n\u001b[0;32m   1564\u001b[0m         \u001b[1;34m\"Conv3D\"\u001b[0m\u001b[1;33m,\u001b[0m \u001b[0minput\u001b[0m\u001b[1;33m=\u001b[0m\u001b[0minput\u001b[0m\u001b[1;33m,\u001b[0m \u001b[0mfilter\u001b[0m\u001b[1;33m=\u001b[0m\u001b[0mfilter\u001b[0m\u001b[1;33m,\u001b[0m \u001b[0mstrides\u001b[0m\u001b[1;33m=\u001b[0m\u001b[0mstrides\u001b[0m\u001b[1;33m,\u001b[0m\u001b[1;33m\u001b[0m\u001b[1;33m\u001b[0m\u001b[0m\n\u001b[0;32m   1565\u001b[0m                   \u001b[0mpadding\u001b[0m\u001b[1;33m=\u001b[0m\u001b[0mpadding\u001b[0m\u001b[1;33m,\u001b[0m \u001b[0mdata_format\u001b[0m\u001b[1;33m=\u001b[0m\u001b[0mdata_format\u001b[0m\u001b[1;33m,\u001b[0m\u001b[1;33m\u001b[0m\u001b[1;33m\u001b[0m\u001b[0m\n\u001b[1;32m-> 1566\u001b[1;33m                   dilations=dilations, name=name)\n\u001b[0m\u001b[0;32m   1567\u001b[0m   \u001b[0m_result\u001b[0m \u001b[1;33m=\u001b[0m \u001b[0m_op\u001b[0m\u001b[1;33m.\u001b[0m\u001b[0moutputs\u001b[0m\u001b[1;33m[\u001b[0m\u001b[1;33m:\u001b[0m\u001b[1;33m]\u001b[0m\u001b[1;33m\u001b[0m\u001b[1;33m\u001b[0m\u001b[0m\n\u001b[0;32m   1568\u001b[0m   \u001b[0m_inputs_flat\u001b[0m \u001b[1;33m=\u001b[0m \u001b[0m_op\u001b[0m\u001b[1;33m.\u001b[0m\u001b[0minputs\u001b[0m\u001b[1;33m\u001b[0m\u001b[1;33m\u001b[0m\u001b[0m\n",
      "\u001b[1;32mE:\\ProgramData\\Anaconda3\\envs\\tensorflow\\lib\\site-packages\\tensorflow\\python\\framework\\op_def_library.py\u001b[0m in \u001b[0;36m_apply_op_helper\u001b[1;34m(self, op_type_name, name, **keywords)\u001b[0m\n\u001b[0;32m    680\u001b[0m                                \u001b[1;34m\"less than minimum %d.\"\u001b[0m \u001b[1;33m%\u001b[0m\u001b[1;33m\u001b[0m\u001b[1;33m\u001b[0m\u001b[0m\n\u001b[0;32m    681\u001b[0m                                (key, op_type_name, len(value),\n\u001b[1;32m--> 682\u001b[1;33m                                 attr_def.minimum))\n\u001b[0m\u001b[0;32m    683\u001b[0m           \u001b[0mattr_value\u001b[0m\u001b[1;33m.\u001b[0m\u001b[0mlist\u001b[0m\u001b[1;33m.\u001b[0m\u001b[0mSetInParent\u001b[0m\u001b[1;33m(\u001b[0m\u001b[1;33m)\u001b[0m\u001b[1;33m\u001b[0m\u001b[1;33m\u001b[0m\u001b[0m\n\u001b[0;32m    684\u001b[0m         \u001b[1;32mif\u001b[0m \u001b[0mattr_def\u001b[0m\u001b[1;33m.\u001b[0m\u001b[0mtype\u001b[0m \u001b[1;33m==\u001b[0m \u001b[1;34m\"string\"\u001b[0m\u001b[1;33m:\u001b[0m\u001b[1;33m\u001b[0m\u001b[1;33m\u001b[0m\u001b[0m\n",
      "\u001b[1;31mValueError\u001b[0m: Attr 'strides' of 'Conv3D' Op passed list of length 4 less than minimum 5."
     ]
    }
   ],
   "source": [
    "import tensorflow as tf\n",
    "a = tf.constant([\n",
    "                [[2,5],[3,3],[8,2]],\n",
    "                [[6,1],[1,2],[5,4]],\n",
    "                [[7,9],[2,3],[-1,3]]\n",
    "                ],tf.float32)\n",
    "b = tf.constant([[3,-2],\n",
    "                 [-1,4]],tf.float32)\n",
    "\n",
    "c = tf.nn.conv3d(a,b,[1,1,1,1],'SAME')\n",
    "sess = tf.Session()\n",
    "sess.run(c)\n",
    "\n",
    "\n"
   ]
  },
  {
   "cell_type": "code",
   "execution_count": 41,
   "metadata": {},
   "outputs": [
    {
     "name": "stdout",
     "output_type": "stream",
     "text": [
      "(1, 4, 4, 1)\n",
      "(2, 2, 1, 1)\n"
     ]
    },
    {
     "ename": "ValueError",
     "evalue": "Shape must be rank 4 but is rank 3 for 'Conv2D_15' (op: 'Conv2D') with input shapes: [1,3,3,1], [2,2,1].",
     "output_type": "error",
     "traceback": [
      "\u001b[1;31m---------------------------------------------------------------------------\u001b[0m",
      "\u001b[1;31mInvalidArgumentError\u001b[0m                      Traceback (most recent call last)",
      "\u001b[1;32mE:\\ProgramData\\Anaconda3\\envs\\tensorflow\\lib\\site-packages\\tensorflow\\python\\framework\\ops.py\u001b[0m in \u001b[0;36m_create_c_op\u001b[1;34m(graph, node_def, inputs, control_inputs)\u001b[0m\n\u001b[0;32m   1658\u001b[0m   \u001b[1;32mtry\u001b[0m\u001b[1;33m:\u001b[0m\u001b[1;33m\u001b[0m\u001b[1;33m\u001b[0m\u001b[0m\n\u001b[1;32m-> 1659\u001b[1;33m     \u001b[0mc_op\u001b[0m \u001b[1;33m=\u001b[0m \u001b[0mc_api\u001b[0m\u001b[1;33m.\u001b[0m\u001b[0mTF_FinishOperation\u001b[0m\u001b[1;33m(\u001b[0m\u001b[0mop_desc\u001b[0m\u001b[1;33m)\u001b[0m\u001b[1;33m\u001b[0m\u001b[1;33m\u001b[0m\u001b[0m\n\u001b[0m\u001b[0;32m   1660\u001b[0m   \u001b[1;32mexcept\u001b[0m \u001b[0merrors\u001b[0m\u001b[1;33m.\u001b[0m\u001b[0mInvalidArgumentError\u001b[0m \u001b[1;32mas\u001b[0m \u001b[0me\u001b[0m\u001b[1;33m:\u001b[0m\u001b[1;33m\u001b[0m\u001b[1;33m\u001b[0m\u001b[0m\n",
      "\u001b[1;31mInvalidArgumentError\u001b[0m: Shape must be rank 4 but is rank 3 for 'Conv2D_15' (op: 'Conv2D') with input shapes: [1,3,3,1], [2,2,1].",
      "\nDuring handling of the above exception, another exception occurred:\n",
      "\u001b[1;31mValueError\u001b[0m                                Traceback (most recent call last)",
      "\u001b[1;32m<ipython-input-41-7413230b6c98>\u001b[0m in \u001b[0;36m<module>\u001b[1;34m\u001b[0m\n\u001b[0;32m     16\u001b[0m \u001b[0mc\u001b[0m \u001b[1;33m=\u001b[0m \u001b[0mtf\u001b[0m\u001b[1;33m.\u001b[0m\u001b[0mnn\u001b[0m\u001b[1;33m.\u001b[0m\u001b[0mconv2d\u001b[0m\u001b[1;33m(\u001b[0m\u001b[0ma\u001b[0m\u001b[1;33m,\u001b[0m\u001b[0mw1\u001b[0m\u001b[1;33m,\u001b[0m\u001b[1;33m[\u001b[0m\u001b[1;36m1\u001b[0m\u001b[1;33m,\u001b[0m\u001b[1;36m1\u001b[0m\u001b[1;33m,\u001b[0m\u001b[1;36m1\u001b[0m\u001b[1;33m,\u001b[0m\u001b[1;36m1\u001b[0m\u001b[1;33m]\u001b[0m\u001b[1;33m,\u001b[0m\u001b[1;34m'VALID'\u001b[0m\u001b[1;33m)\u001b[0m\u001b[1;33m\u001b[0m\u001b[1;33m\u001b[0m\u001b[0m\n\u001b[0;32m     17\u001b[0m \u001b[0mw2\u001b[0m \u001b[1;33m=\u001b[0m \u001b[0mtf\u001b[0m\u001b[1;33m.\u001b[0m\u001b[0mconstant\u001b[0m\u001b[1;33m(\u001b[0m\u001b[1;33m[\u001b[0m\u001b[1;33m[\u001b[0m\u001b[1;33m[\u001b[0m\u001b[1;36m1\u001b[0m\u001b[1;33m]\u001b[0m\u001b[1;33m,\u001b[0m\u001b[1;33m[\u001b[0m\u001b[1;36m1\u001b[0m\u001b[1;33m]\u001b[0m\u001b[1;33m]\u001b[0m\u001b[1;33m,\u001b[0m\u001b[1;33m[\u001b[0m\u001b[1;33m[\u001b[0m\u001b[1;36m1\u001b[0m\u001b[1;33m]\u001b[0m\u001b[1;33m,\u001b[0m\u001b[1;33m[\u001b[0m\u001b[1;36m1\u001b[0m\u001b[1;33m]\u001b[0m\u001b[1;33m]\u001b[0m\u001b[1;33m]\u001b[0m\u001b[1;33m,\u001b[0m\u001b[0mtf\u001b[0m\u001b[1;33m.\u001b[0m\u001b[0mfloat32\u001b[0m\u001b[1;33m)\u001b[0m\u001b[1;33m\u001b[0m\u001b[1;33m\u001b[0m\u001b[0m\n\u001b[1;32m---> 18\u001b[1;33m \u001b[0md\u001b[0m \u001b[1;33m=\u001b[0m\u001b[0mtf\u001b[0m\u001b[1;33m.\u001b[0m\u001b[0mnn\u001b[0m\u001b[1;33m.\u001b[0m\u001b[0mconv2d\u001b[0m\u001b[1;33m(\u001b[0m\u001b[0mc\u001b[0m\u001b[1;33m,\u001b[0m\u001b[0mw2\u001b[0m\u001b[1;33m,\u001b[0m\u001b[1;33m[\u001b[0m\u001b[1;36m1\u001b[0m\u001b[1;33m,\u001b[0m\u001b[1;36m1\u001b[0m\u001b[1;33m,\u001b[0m\u001b[1;36m1\u001b[0m\u001b[1;33m,\u001b[0m\u001b[1;36m1\u001b[0m\u001b[1;33m]\u001b[0m\u001b[1;33m,\u001b[0m\u001b[1;34m'VALID'\u001b[0m\u001b[1;33m)\u001b[0m\u001b[1;33m\u001b[0m\u001b[1;33m\u001b[0m\u001b[0m\n\u001b[0m\u001b[0;32m     19\u001b[0m \u001b[1;32mwith\u001b[0m \u001b[0mtf\u001b[0m\u001b[1;33m.\u001b[0m\u001b[0mSession\u001b[0m\u001b[1;33m(\u001b[0m\u001b[1;33m)\u001b[0m \u001b[1;32mas\u001b[0m \u001b[0msess\u001b[0m\u001b[1;33m:\u001b[0m\u001b[1;33m\u001b[0m\u001b[1;33m\u001b[0m\u001b[0m\n\u001b[0;32m     20\u001b[0m     \u001b[0mprint\u001b[0m\u001b[1;33m(\u001b[0m\u001b[0msess\u001b[0m\u001b[1;33m.\u001b[0m\u001b[0mrun\u001b[0m\u001b[1;33m(\u001b[0m\u001b[0md\u001b[0m\u001b[1;33m)\u001b[0m\u001b[1;33m)\u001b[0m\u001b[1;33m\u001b[0m\u001b[1;33m\u001b[0m\u001b[0m\n",
      "\u001b[1;32mE:\\ProgramData\\Anaconda3\\envs\\tensorflow\\lib\\site-packages\\tensorflow\\python\\ops\\gen_nn_ops.py\u001b[0m in \u001b[0;36mconv2d\u001b[1;34m(input, filter, strides, padding, use_cudnn_on_gpu, data_format, dilations, name)\u001b[0m\n\u001b[0;32m   1110\u001b[0m         \u001b[1;34m\"Conv2D\"\u001b[0m\u001b[1;33m,\u001b[0m \u001b[0minput\u001b[0m\u001b[1;33m=\u001b[0m\u001b[0minput\u001b[0m\u001b[1;33m,\u001b[0m \u001b[0mfilter\u001b[0m\u001b[1;33m=\u001b[0m\u001b[0mfilter\u001b[0m\u001b[1;33m,\u001b[0m \u001b[0mstrides\u001b[0m\u001b[1;33m=\u001b[0m\u001b[0mstrides\u001b[0m\u001b[1;33m,\u001b[0m\u001b[1;33m\u001b[0m\u001b[1;33m\u001b[0m\u001b[0m\n\u001b[0;32m   1111\u001b[0m                   \u001b[0mpadding\u001b[0m\u001b[1;33m=\u001b[0m\u001b[0mpadding\u001b[0m\u001b[1;33m,\u001b[0m \u001b[0muse_cudnn_on_gpu\u001b[0m\u001b[1;33m=\u001b[0m\u001b[0muse_cudnn_on_gpu\u001b[0m\u001b[1;33m,\u001b[0m\u001b[1;33m\u001b[0m\u001b[1;33m\u001b[0m\u001b[0m\n\u001b[1;32m-> 1112\u001b[1;33m                   data_format=data_format, dilations=dilations, name=name)\n\u001b[0m\u001b[0;32m   1113\u001b[0m   \u001b[0m_result\u001b[0m \u001b[1;33m=\u001b[0m \u001b[0m_op\u001b[0m\u001b[1;33m.\u001b[0m\u001b[0moutputs\u001b[0m\u001b[1;33m[\u001b[0m\u001b[1;33m:\u001b[0m\u001b[1;33m]\u001b[0m\u001b[1;33m\u001b[0m\u001b[1;33m\u001b[0m\u001b[0m\n\u001b[0;32m   1114\u001b[0m   \u001b[0m_inputs_flat\u001b[0m \u001b[1;33m=\u001b[0m \u001b[0m_op\u001b[0m\u001b[1;33m.\u001b[0m\u001b[0minputs\u001b[0m\u001b[1;33m\u001b[0m\u001b[1;33m\u001b[0m\u001b[0m\n",
      "\u001b[1;32mE:\\ProgramData\\Anaconda3\\envs\\tensorflow\\lib\\site-packages\\tensorflow\\python\\framework\\op_def_library.py\u001b[0m in \u001b[0;36m_apply_op_helper\u001b[1;34m(self, op_type_name, name, **keywords)\u001b[0m\n\u001b[0;32m    786\u001b[0m         op = g.create_op(op_type_name, inputs, output_types, name=scope,\n\u001b[0;32m    787\u001b[0m                          \u001b[0minput_types\u001b[0m\u001b[1;33m=\u001b[0m\u001b[0minput_types\u001b[0m\u001b[1;33m,\u001b[0m \u001b[0mattrs\u001b[0m\u001b[1;33m=\u001b[0m\u001b[0mattr_protos\u001b[0m\u001b[1;33m,\u001b[0m\u001b[1;33m\u001b[0m\u001b[1;33m\u001b[0m\u001b[0m\n\u001b[1;32m--> 788\u001b[1;33m                          op_def=op_def)\n\u001b[0m\u001b[0;32m    789\u001b[0m       \u001b[1;32mreturn\u001b[0m \u001b[0moutput_structure\u001b[0m\u001b[1;33m,\u001b[0m \u001b[0mop_def\u001b[0m\u001b[1;33m.\u001b[0m\u001b[0mis_stateful\u001b[0m\u001b[1;33m,\u001b[0m \u001b[0mop\u001b[0m\u001b[1;33m\u001b[0m\u001b[1;33m\u001b[0m\u001b[0m\n\u001b[0;32m    790\u001b[0m \u001b[1;33m\u001b[0m\u001b[0m\n",
      "\u001b[1;32mE:\\ProgramData\\Anaconda3\\envs\\tensorflow\\lib\\site-packages\\tensorflow\\python\\util\\deprecation.py\u001b[0m in \u001b[0;36mnew_func\u001b[1;34m(*args, **kwargs)\u001b[0m\n\u001b[0;32m    505\u001b[0m                 \u001b[1;34m'in a future version'\u001b[0m \u001b[1;32mif\u001b[0m \u001b[0mdate\u001b[0m \u001b[1;32mis\u001b[0m \u001b[1;32mNone\u001b[0m \u001b[1;32melse\u001b[0m \u001b[1;33m(\u001b[0m\u001b[1;34m'after %s'\u001b[0m \u001b[1;33m%\u001b[0m \u001b[0mdate\u001b[0m\u001b[1;33m)\u001b[0m\u001b[1;33m,\u001b[0m\u001b[1;33m\u001b[0m\u001b[1;33m\u001b[0m\u001b[0m\n\u001b[0;32m    506\u001b[0m                 instructions)\n\u001b[1;32m--> 507\u001b[1;33m       \u001b[1;32mreturn\u001b[0m \u001b[0mfunc\u001b[0m\u001b[1;33m(\u001b[0m\u001b[1;33m*\u001b[0m\u001b[0margs\u001b[0m\u001b[1;33m,\u001b[0m \u001b[1;33m**\u001b[0m\u001b[0mkwargs\u001b[0m\u001b[1;33m)\u001b[0m\u001b[1;33m\u001b[0m\u001b[1;33m\u001b[0m\u001b[0m\n\u001b[0m\u001b[0;32m    508\u001b[0m \u001b[1;33m\u001b[0m\u001b[0m\n\u001b[0;32m    509\u001b[0m     doc = _add_deprecated_arg_notice_to_docstring(\n",
      "\u001b[1;32mE:\\ProgramData\\Anaconda3\\envs\\tensorflow\\lib\\site-packages\\tensorflow\\python\\framework\\ops.py\u001b[0m in \u001b[0;36mcreate_op\u001b[1;34m(***failed resolving arguments***)\u001b[0m\n\u001b[0;32m   3298\u001b[0m           \u001b[0minput_types\u001b[0m\u001b[1;33m=\u001b[0m\u001b[0minput_types\u001b[0m\u001b[1;33m,\u001b[0m\u001b[1;33m\u001b[0m\u001b[1;33m\u001b[0m\u001b[0m\n\u001b[0;32m   3299\u001b[0m           \u001b[0moriginal_op\u001b[0m\u001b[1;33m=\u001b[0m\u001b[0mself\u001b[0m\u001b[1;33m.\u001b[0m\u001b[0m_default_original_op\u001b[0m\u001b[1;33m,\u001b[0m\u001b[1;33m\u001b[0m\u001b[1;33m\u001b[0m\u001b[0m\n\u001b[1;32m-> 3300\u001b[1;33m           op_def=op_def)\n\u001b[0m\u001b[0;32m   3301\u001b[0m       \u001b[0mself\u001b[0m\u001b[1;33m.\u001b[0m\u001b[0m_create_op_helper\u001b[0m\u001b[1;33m(\u001b[0m\u001b[0mret\u001b[0m\u001b[1;33m,\u001b[0m \u001b[0mcompute_device\u001b[0m\u001b[1;33m=\u001b[0m\u001b[0mcompute_device\u001b[0m\u001b[1;33m)\u001b[0m\u001b[1;33m\u001b[0m\u001b[1;33m\u001b[0m\u001b[0m\n\u001b[0;32m   3302\u001b[0m     \u001b[1;32mreturn\u001b[0m \u001b[0mret\u001b[0m\u001b[1;33m\u001b[0m\u001b[1;33m\u001b[0m\u001b[0m\n",
      "\u001b[1;32mE:\\ProgramData\\Anaconda3\\envs\\tensorflow\\lib\\site-packages\\tensorflow\\python\\framework\\ops.py\u001b[0m in \u001b[0;36m__init__\u001b[1;34m(self, node_def, g, inputs, output_types, control_inputs, input_types, original_op, op_def)\u001b[0m\n\u001b[0;32m   1821\u001b[0m           op_def, inputs, node_def.attr)\n\u001b[0;32m   1822\u001b[0m       self._c_op = _create_c_op(self._graph, node_def, grouped_inputs,\n\u001b[1;32m-> 1823\u001b[1;33m                                 control_input_ops)\n\u001b[0m\u001b[0;32m   1824\u001b[0m \u001b[1;33m\u001b[0m\u001b[0m\n\u001b[0;32m   1825\u001b[0m     \u001b[1;31m# Initialize self._outputs.\u001b[0m\u001b[1;33m\u001b[0m\u001b[1;33m\u001b[0m\u001b[1;33m\u001b[0m\u001b[0m\n",
      "\u001b[1;32mE:\\ProgramData\\Anaconda3\\envs\\tensorflow\\lib\\site-packages\\tensorflow\\python\\framework\\ops.py\u001b[0m in \u001b[0;36m_create_c_op\u001b[1;34m(graph, node_def, inputs, control_inputs)\u001b[0m\n\u001b[0;32m   1660\u001b[0m   \u001b[1;32mexcept\u001b[0m \u001b[0merrors\u001b[0m\u001b[1;33m.\u001b[0m\u001b[0mInvalidArgumentError\u001b[0m \u001b[1;32mas\u001b[0m \u001b[0me\u001b[0m\u001b[1;33m:\u001b[0m\u001b[1;33m\u001b[0m\u001b[1;33m\u001b[0m\u001b[0m\n\u001b[0;32m   1661\u001b[0m     \u001b[1;31m# Convert to ValueError for backwards compatibility.\u001b[0m\u001b[1;33m\u001b[0m\u001b[1;33m\u001b[0m\u001b[1;33m\u001b[0m\u001b[0m\n\u001b[1;32m-> 1662\u001b[1;33m     \u001b[1;32mraise\u001b[0m \u001b[0mValueError\u001b[0m\u001b[1;33m(\u001b[0m\u001b[0mstr\u001b[0m\u001b[1;33m(\u001b[0m\u001b[0me\u001b[0m\u001b[1;33m)\u001b[0m\u001b[1;33m)\u001b[0m\u001b[1;33m\u001b[0m\u001b[1;33m\u001b[0m\u001b[0m\n\u001b[0m\u001b[0;32m   1663\u001b[0m \u001b[1;33m\u001b[0m\u001b[0m\n\u001b[0;32m   1664\u001b[0m   \u001b[1;32mreturn\u001b[0m \u001b[0mc_op\u001b[0m\u001b[1;33m\u001b[0m\u001b[1;33m\u001b[0m\u001b[0m\n",
      "\u001b[1;31mValueError\u001b[0m: Shape must be rank 4 but is rank 3 for 'Conv2D_15' (op: 'Conv2D') with input shapes: [1,3,3,1], [2,2,1]."
     ]
    }
   ],
   "source": [
    "import tensorflow as tf\n",
    "a = tf.constant([\n",
    "    [\n",
    "    [[1],[1],[1],[1]],\n",
    "    [[1],[1],[1],[1]],\n",
    "    [[1],[1],[1],[1]],\n",
    "    [[1],[1],[1],[1]]\n",
    "    ]],tf.float32)\n",
    "print(a.shape)\n",
    "w1 = tf.constant([\n",
    "    [[[1]],[[1]]],\n",
    "    [[[1]],[[1]]]\n",
    "],tf.float32)\n",
    "\n",
    "print(w1.shape)\n",
    "c = tf.nn.conv2d(a,w1,[1,1,1,1],'VALID')\n",
    "w2 = tf.constant([[[1],[1]],[[1],[1]]],tf.float32)\n",
    "d =tf.nn.conv2d(c,w2,[1,1,1,1],'VALID')\n",
    "with tf.Session() as sess:\n",
    "    print(sess.run(d))"
   ]
  },
  {
   "cell_type": "code",
   "execution_count": 53,
   "metadata": {},
   "outputs": [
    {
     "ename": "ValueError",
     "evalue": "Cannot evaluate tensor using `eval()`: No default session is registered. Use `with sess.as_default()` or pass an explicit session to `eval(session=sess)`",
     "output_type": "error",
     "traceback": [
      "\u001b[1;31m---------------------------------------------------------------------------\u001b[0m",
      "\u001b[1;31mValueError\u001b[0m                                Traceback (most recent call last)",
      "\u001b[1;32m<ipython-input-53-c9ab7aca26dd>\u001b[0m in \u001b[0;36m<module>\u001b[1;34m\u001b[0m\n\u001b[0;32m      1\u001b[0m \u001b[1;32mimport\u001b[0m \u001b[0mtensorflow\u001b[0m \u001b[1;32mas\u001b[0m \u001b[0mtf\u001b[0m\u001b[1;33m\u001b[0m\u001b[1;33m\u001b[0m\u001b[0m\n\u001b[0;32m      2\u001b[0m \u001b[0mx\u001b[0m \u001b[1;33m=\u001b[0m \u001b[0mtf\u001b[0m\u001b[1;33m.\u001b[0m\u001b[0mVariable\u001b[0m\u001b[1;33m(\u001b[0m\u001b[0mtf\u001b[0m\u001b[1;33m.\u001b[0m\u001b[0mrandom_normal\u001b[0m\u001b[1;33m(\u001b[0m\u001b[1;33m[\u001b[0m\u001b[1;36m1\u001b[0m\u001b[1;33m,\u001b[0m\u001b[1;36m3\u001b[0m\u001b[1;33m,\u001b[0m\u001b[1;36m3\u001b[0m\u001b[1;33m,\u001b[0m\u001b[1;36m1\u001b[0m\u001b[1;33m]\u001b[0m\u001b[1;33m)\u001b[0m\u001b[1;33m,\u001b[0m\u001b[0mtf\u001b[0m\u001b[1;33m.\u001b[0m\u001b[0mfloat32\u001b[0m\u001b[1;33m)\u001b[0m\u001b[1;33m\u001b[0m\u001b[1;33m\u001b[0m\u001b[0m\n\u001b[1;32m----> 3\u001b[1;33m \u001b[0mprint\u001b[0m\u001b[1;33m(\u001b[0m\u001b[0mx\u001b[0m\u001b[1;33m.\u001b[0m\u001b[0meval\u001b[0m\u001b[1;33m(\u001b[0m\u001b[1;33m)\u001b[0m\u001b[1;33m)\u001b[0m\u001b[1;33m\u001b[0m\u001b[1;33m\u001b[0m\u001b[0m\n\u001b[0m\u001b[0;32m      4\u001b[0m \u001b[1;33m\u001b[0m\u001b[0m\n\u001b[0;32m      5\u001b[0m \u001b[0mw1\u001b[0m \u001b[1;33m=\u001b[0m \u001b[0mtf\u001b[0m\u001b[1;33m.\u001b[0m\u001b[0mVariable\u001b[0m\u001b[1;33m(\u001b[0m\u001b[0mtf\u001b[0m\u001b[1;33m.\u001b[0m\u001b[0mrandom_normal\u001b[0m\u001b[1;33m(\u001b[0m\u001b[1;33m[\u001b[0m\u001b[1;36m2\u001b[0m\u001b[1;33m,\u001b[0m\u001b[1;36m2\u001b[0m\u001b[1;33m,\u001b[0m\u001b[1;36m1\u001b[0m\u001b[1;33m,\u001b[0m\u001b[1;36m2\u001b[0m\u001b[1;33m]\u001b[0m\u001b[1;33m)\u001b[0m\u001b[1;33m,\u001b[0m\u001b[0mtf\u001b[0m\u001b[1;33m.\u001b[0m\u001b[0mfloat32\u001b[0m\u001b[1;33m)\u001b[0m\u001b[1;33m\u001b[0m\u001b[1;33m\u001b[0m\u001b[0m\n",
      "\u001b[1;32mE:\\ProgramData\\Anaconda3\\envs\\tensorflow\\lib\\site-packages\\tensorflow\\python\\ops\\variables.py\u001b[0m in \u001b[0;36meval\u001b[1;34m(self, session)\u001b[0m\n\u001b[0;32m   1693\u001b[0m       \u001b[0mA\u001b[0m \u001b[0mnumpy\u001b[0m\u001b[0;31m \u001b[0m\u001b[0;31m`\u001b[0m\u001b[0mndarray\u001b[0m\u001b[0;31m`\u001b[0m \u001b[1;32mwith\u001b[0m \u001b[0ma\u001b[0m \u001b[0mcopy\u001b[0m \u001b[0mof\u001b[0m \u001b[0mthe\u001b[0m \u001b[0mvalue\u001b[0m \u001b[0mof\u001b[0m \u001b[0mthis\u001b[0m \u001b[0mvariable\u001b[0m\u001b[1;33m.\u001b[0m\u001b[1;33m\u001b[0m\u001b[1;33m\u001b[0m\u001b[0m\n\u001b[0;32m   1694\u001b[0m     \"\"\"\n\u001b[1;32m-> 1695\u001b[1;33m     \u001b[1;32mreturn\u001b[0m \u001b[0mself\u001b[0m\u001b[1;33m.\u001b[0m\u001b[0m_variable\u001b[0m\u001b[1;33m.\u001b[0m\u001b[0meval\u001b[0m\u001b[1;33m(\u001b[0m\u001b[0msession\u001b[0m\u001b[1;33m=\u001b[0m\u001b[0msession\u001b[0m\u001b[1;33m)\u001b[0m\u001b[1;33m\u001b[0m\u001b[1;33m\u001b[0m\u001b[0m\n\u001b[0m\u001b[0;32m   1696\u001b[0m \u001b[1;33m\u001b[0m\u001b[0m\n\u001b[0;32m   1697\u001b[0m   \u001b[1;32mdef\u001b[0m \u001b[0minitialized_value\u001b[0m\u001b[1;33m(\u001b[0m\u001b[0mself\u001b[0m\u001b[1;33m)\u001b[0m\u001b[1;33m:\u001b[0m\u001b[1;33m\u001b[0m\u001b[1;33m\u001b[0m\u001b[0m\n",
      "\u001b[1;32mE:\\ProgramData\\Anaconda3\\envs\\tensorflow\\lib\\site-packages\\tensorflow\\python\\framework\\ops.py\u001b[0m in \u001b[0;36meval\u001b[1;34m(self, feed_dict, session)\u001b[0m\n\u001b[0;32m    693\u001b[0m \u001b[1;33m\u001b[0m\u001b[0m\n\u001b[0;32m    694\u001b[0m     \"\"\"\n\u001b[1;32m--> 695\u001b[1;33m     \u001b[1;32mreturn\u001b[0m \u001b[0m_eval_using_default_session\u001b[0m\u001b[1;33m(\u001b[0m\u001b[0mself\u001b[0m\u001b[1;33m,\u001b[0m \u001b[0mfeed_dict\u001b[0m\u001b[1;33m,\u001b[0m \u001b[0mself\u001b[0m\u001b[1;33m.\u001b[0m\u001b[0mgraph\u001b[0m\u001b[1;33m,\u001b[0m \u001b[0msession\u001b[0m\u001b[1;33m)\u001b[0m\u001b[1;33m\u001b[0m\u001b[1;33m\u001b[0m\u001b[0m\n\u001b[0m\u001b[0;32m    696\u001b[0m \u001b[1;33m\u001b[0m\u001b[0m\n\u001b[0;32m    697\u001b[0m \u001b[1;33m\u001b[0m\u001b[0m\n",
      "\u001b[1;32mE:\\ProgramData\\Anaconda3\\envs\\tensorflow\\lib\\site-packages\\tensorflow\\python\\framework\\ops.py\u001b[0m in \u001b[0;36m_eval_using_default_session\u001b[1;34m(tensors, feed_dict, graph, session)\u001b[0m\n\u001b[0;32m   5165\u001b[0m     \u001b[0msession\u001b[0m \u001b[1;33m=\u001b[0m \u001b[0mget_default_session\u001b[0m\u001b[1;33m(\u001b[0m\u001b[1;33m)\u001b[0m\u001b[1;33m\u001b[0m\u001b[1;33m\u001b[0m\u001b[0m\n\u001b[0;32m   5166\u001b[0m     \u001b[1;32mif\u001b[0m \u001b[0msession\u001b[0m \u001b[1;32mis\u001b[0m \u001b[1;32mNone\u001b[0m\u001b[1;33m:\u001b[0m\u001b[1;33m\u001b[0m\u001b[1;33m\u001b[0m\u001b[0m\n\u001b[1;32m-> 5167\u001b[1;33m       raise ValueError(\"Cannot evaluate tensor using `eval()`: No default \"\n\u001b[0m\u001b[0;32m   5168\u001b[0m                        \u001b[1;34m\"session is registered. Use `with \"\u001b[0m\u001b[1;33m\u001b[0m\u001b[1;33m\u001b[0m\u001b[0m\n\u001b[0;32m   5169\u001b[0m                        \u001b[1;34m\"sess.as_default()` or pass an explicit session to \"\u001b[0m\u001b[1;33m\u001b[0m\u001b[1;33m\u001b[0m\u001b[0m\n",
      "\u001b[1;31mValueError\u001b[0m: Cannot evaluate tensor using `eval()`: No default session is registered. Use `with sess.as_default()` or pass an explicit session to `eval(session=sess)`"
     ]
    }
   ],
   "source": [
    "import tensorflow as tf\n",
    "x = tf.Variable(tf.random_normal([1,3,3,1]),tf.float32)\n",
    "w1 = tf.Variable(tf.random_normal([2,2,1,2]),tf.float32)\n",
    "out = tf.nn.conv2d(x,w1,[1,1,1,1],'SAME')\n",
    "sess = tf.Session()\n",
    "print(sess.run(out))+\n"
   ]
  },
  {
   "cell_type": "code",
   "execution_count": 64,
   "metadata": {},
   "outputs": [
    {
     "ename": "ValueError",
     "evalue": "cannot reshape array of size 6 into shape (2,4)",
     "output_type": "error",
     "traceback": [
      "\u001b[1;31m---------------------------------------------------------------------------\u001b[0m",
      "\u001b[1;31mValueError\u001b[0m                                Traceback (most recent call last)",
      "\u001b[1;32m<ipython-input-64-764e18427c65>\u001b[0m in \u001b[0;36m<module>\u001b[1;34m\u001b[0m\n\u001b[0;32m      2\u001b[0m \u001b[0ma\u001b[0m \u001b[1;33m=\u001b[0m \u001b[1;33m[\u001b[0m\u001b[1;36m3\u001b[0m\u001b[1;33m,\u001b[0m\u001b[1;36m2\u001b[0m\u001b[1;33m]\u001b[0m\u001b[1;33m\u001b[0m\u001b[1;33m\u001b[0m\u001b[0m\n\u001b[0;32m      3\u001b[0m \u001b[0ma\u001b[0m \u001b[1;33m=\u001b[0m \u001b[0mnp\u001b[0m\u001b[1;33m.\u001b[0m\u001b[0mndarray\u001b[0m\u001b[1;33m(\u001b[0m\u001b[0ma\u001b[0m\u001b[1;33m)\u001b[0m\u001b[1;33m\u001b[0m\u001b[1;33m\u001b[0m\u001b[0m\n\u001b[1;32m----> 4\u001b[1;33m \u001b[0mb\u001b[0m \u001b[1;33m=\u001b[0m \u001b[0ma\u001b[0m\u001b[1;33m.\u001b[0m\u001b[0mreshape\u001b[0m\u001b[1;33m(\u001b[0m\u001b[1;36m2\u001b[0m\u001b[1;33m,\u001b[0m\u001b[1;36m4\u001b[0m\u001b[1;33m)\u001b[0m\u001b[1;33m\u001b[0m\u001b[1;33m\u001b[0m\u001b[0m\n\u001b[0m\u001b[0;32m      5\u001b[0m \u001b[0mprint\u001b[0m\u001b[1;33m(\u001b[0m\u001b[0mb\u001b[0m\u001b[1;33m.\u001b[0m\u001b[0mshape\u001b[0m\u001b[1;33m)\u001b[0m\u001b[1;33m\u001b[0m\u001b[1;33m\u001b[0m\u001b[0m\n",
      "\u001b[1;31mValueError\u001b[0m: cannot reshape array of size 6 into shape (2,4)"
     ]
    }
   ],
   "source": [
    "import numpy as np\n",
    "a = [3,2]\n",
    "a = np.ndarray(a)\n",
    "b = a.reshape(2,4)\n",
    "print(b.shape)"
   ]
  },
  {
   "cell_type": "code",
   "execution_count": 1,
   "metadata": {},
   "outputs": [
    {
     "name": "stdout",
     "output_type": "stream",
     "text": [
      "(200, 150)\n"
     ]
    },
    {
     "data": {
      "text/plain": [
       "-1"
      ]
     },
     "execution_count": 1,
     "metadata": {},
     "output_type": "execute_result"
    }
   ],
   "source": [
    "import cv2\n",
    "a = cv2.imread('G:/ye/Postgraduate/Python-Project/Python/jupyter_notebook/1.jpg')\n",
    "a = cv2.cvtColor(a,cv2.COLOR_BGR2GRAY)\n",
    "b = cv2.resize(a,(80,60))\n",
    "print(a.shape)\n",
    "cv2.imshow('i',a)\n",
    "cv2.imshow('c',b)\n",
    "cv2.waitKey(0)"
   ]
  },
  {
   "cell_type": "code",
   "execution_count": null,
   "metadata": {},
   "outputs": [],
   "source": []
  }
 ],
 "metadata": {
  "kernelspec": {
   "display_name": "Python [conda env:tensorflow]",
   "language": "python",
   "name": "conda-env-tensorflow-py"
  },
  "language_info": {
   "codemirror_mode": {
    "name": "ipython",
    "version": 3
   },
   "file_extension": ".py",
   "mimetype": "text/x-python",
   "name": "python",
   "nbconvert_exporter": "python",
   "pygments_lexer": "ipython3",
   "version": "3.6.8"
  }
 },
 "nbformat": 4,
 "nbformat_minor": 2
}
