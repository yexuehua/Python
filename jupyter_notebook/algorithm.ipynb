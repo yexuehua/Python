{
 "cells": [
  {
   "cell_type": "code",
   "execution_count": 4,
   "metadata": {},
   "outputs": [
    {
     "name": "stdout",
     "output_type": "stream",
     "text": [
      "7 9 3 5 1 3\n",
      "[1, 3, 3, 5, 7, 9]\n"
     ]
    }
   ],
   "source": [
    "'''quick sort'''\n",
    "\n",
    "def quick_sort(arr):\n",
    "    if len(arr)<=1:\n",
    "        return arr\n",
    "    else:\n",
    "        m = arr[0]\n",
    "        lower =[]\n",
    "        grater = []\n",
    "        for i in arr[1:]:\n",
    "            if i>m:\n",
    "                grater.append(i)\n",
    "            else:\n",
    "                lower.append(i)\n",
    "    return quick_sort(lower)+[m]+quick_sort(grater)\n",
    "\n",
    "a = list(map(int,input().split()))\n",
    "print(quick_sort(a))"
   ]
  },
  {
   "cell_type": "code",
   "execution_count": null,
   "metadata": {},
   "outputs": [],
   "source": []
  },
  {
   "cell_type": "code",
   "execution_count": null,
   "metadata": {},
   "outputs": [],
   "source": []
  }
 ],
 "metadata": {
  "kernelspec": {
   "display_name": "Python 3",
   "language": "python",
   "name": "python3"
  },
  "language_info": {
   "codemirror_mode": {
    "name": "ipython",
    "version": 3
   },
   "file_extension": ".py",
   "mimetype": "text/x-python",
   "name": "python",
   "nbconvert_exporter": "python",
   "pygments_lexer": "ipython3",
   "version": "3.7.3"
  }
 },
 "nbformat": 4,
 "nbformat_minor": 2
}
