{
 "cells": [
  {
   "cell_type": "code",
   "execution_count": 7,
   "metadata": {},
   "outputs": [
    {
     "name": "stdout",
     "output_type": "stream",
     "text": [
      "2\n",
      "0 0 \n",
      "4 6\n",
      "36\n"
     ]
    }
   ],
   "source": [
    "'''有一个城市需要修建，给你N个民居的坐标X,Y，\n",
    "问把这么多民居全都包进城市的话，城市所需最小面积是多少\n",
    "（注意，城市为平行于坐标轴的正方形）\n",
    "\n",
    "输入\n",
    "  第一行为N，表示民居数目（2≤N≤1000）\n",
    "  下面为N行，每行两个数字Xi，Yi，表示该居民的坐标（-1e9≤xi,yi≤1e9）\n",
    "输出\n",
    "  城市所需最小面积\n",
    "\n",
    "样例输入\n",
    "2\n",
    "0 0\n",
    "2 2\n",
    "样例输出\n",
    "4\n",
    "'''\n",
    "n = int(input())\n",
    "xs = []\n",
    "ys = []\n",
    "for i in range(n):\n",
    "    x,y = list(map(int,input().split()))\n",
    "    xs.append(x)\n",
    "    ys.append(y)\n",
    "    \n",
    "min_x = min(xs)\n",
    "max_x = max(xs)\n",
    "x = max_x-min_x\n",
    "min_y = min(ys)\n",
    "max_y = max(ys)\n",
    "y = max_y-min_y\n",
    "\n",
    "side = max(x,y)\n",
    "print(side**2)"
   ]
  },
  {
   "cell_type": "code",
   "execution_count": 11,
   "metadata": {},
   "outputs": [
    {
     "name": "stdout",
     "output_type": "stream",
     "text": [
      "5 3\n",
      "1 2 3 2 2\n",
      "3\n",
      "1 4\n",
      "2 4\n",
      "1 5\n",
      "3\n",
      "2\n",
      "3\n"
     ]
    }
   ],
   "source": [
    "'''小明有一个花园，花园里面一共有m朵花，对于每一朵花，都是不一样的，小明用1～m中的一个整数表示每一朵花。\n",
    "他很喜欢去看这些花，有一天他看了n次，并将n次他看花的种类是什么按照时间顺序记录下来。\n",
    "记录用a[i]表示，表示第i次他看了a[i]这朵花。\n",
    "小红很好奇，她有Q个问题,问[l,r]的时间内，小明一共看了多少朵不同的花儿，\n",
    "小明因为在忙着欣赏他的花儿，所以想请你帮他回答这些问题。\n",
    "\n",
    "输入\n",
    "  输入两个数n,m;(1<=n<=2000,1<=m<=100);分别表示n次看花，m表示一共有m朵花儿。\n",
    "  接下来输入n个数a[1]~a[n]，a[i]表示第i次，小明看的花的种类;\n",
    "  输入一个数Q(1<=Q<=1000000);表示小红的问题数量。\n",
    "  输入Q行 每行两个数 l,r(1<=l<=r<=n); 表示小红想知道在第l次到第r次，小明一共看了多少不同的花儿。\n",
    "输出\n",
    "  一共Q行\n",
    "  每一行输出一个数 表示小明在[l,r]的时间内看了多少种花。\n",
    "\n",
    "样例输入\n",
    "5 3\n",
    "1 2 3 2 2\n",
    "3\n",
    "1 4\n",
    "2 4\n",
    "1 5\n",
    "样例输出\n",
    "3\n",
    "2\n",
    "3'''\n",
    "\n",
    "n,m= list(map(int,input().split()))\n",
    "a = list(map(int,input().split()))\n",
    "assert len(a)==n\n",
    "Q = int(input())\n",
    "output = []\n",
    "for i in range(Q):\n",
    "    s,e= list(map(int,input().split()))\n",
    "    output.append(len(set(a[s-1:e-1])))\n",
    "for i in range(Q):\n",
    "    print(output[i])\n"
   ]
  },
  {
   "cell_type": "code",
   "execution_count": 12,
   "metadata": {},
   "outputs": [
    {
     "name": "stdout",
     "output_type": "stream",
     "text": [
      "how old are you?24\n",
      "24\n"
     ]
    }
   ],
   "source": [
    "age = input(\"how old are you?\")\n",
    "age = int(age)\n",
    "print(age)"
   ]
  },
  {
   "cell_type": "code",
   "execution_count": null,
   "metadata": {},
   "outputs": [],
   "source": []
  }
 ],
 "metadata": {
  "kernelspec": {
   "display_name": "Python [conda env:root] *",
   "language": "python",
   "name": "conda-root-py"
  },
  "language_info": {
   "codemirror_mode": {
    "name": "ipython",
    "version": 3
   },
   "file_extension": ".py",
   "mimetype": "text/x-python",
   "name": "python",
   "nbconvert_exporter": "python",
   "pygments_lexer": "ipython3",
   "version": "3.7.3"
  }
 },
 "nbformat": 4,
 "nbformat_minor": 2
}
